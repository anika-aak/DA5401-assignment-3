{
  "nbformat": 4,
  "nbformat_minor": 0,
  "metadata": {
    "colab": {
      "provenance": []
    },
    "kernelspec": {
      "name": "python3",
      "display_name": "Python 3"
    },
    "language_info": {
      "name": "python"
    }
  },
  "cells": [
    {
      "cell_type": "markdown",
      "source": [
        "# DA5401 A3 - Addressing Class Imbalance with Clustering and Resampling - Set Up\n"
      ],
      "metadata": {
        "id": "jX3rvgSBq46W"
      }
    },
    {
      "cell_type": "code",
      "execution_count": 3,
      "metadata": {
        "colab": {
          "base_uri": "https://localhost:8080/",
          "height": 90
        },
        "id": "VTpIB5zwiItf",
        "outputId": "142b63df-1428-411f-f769-76481ce691a8"
      },
      "outputs": [
        {
          "output_type": "display_data",
          "data": {
            "text/plain": [
              "<IPython.core.display.HTML object>"
            ],
            "text/html": [
              "\n",
              "     <input type=\"file\" id=\"files-783bdb62-3571-45ce-b004-508e09d1d130\" name=\"files[]\" multiple disabled\n",
              "        style=\"border:none\" />\n",
              "     <output id=\"result-783bdb62-3571-45ce-b004-508e09d1d130\">\n",
              "      Upload widget is only available when the cell has been executed in the\n",
              "      current browser session. Please rerun this cell to enable.\n",
              "      </output>\n",
              "      <script>// Copyright 2017 Google LLC\n",
              "//\n",
              "// Licensed under the Apache License, Version 2.0 (the \"License\");\n",
              "// you may not use this file except in compliance with the License.\n",
              "// You may obtain a copy of the License at\n",
              "//\n",
              "//      http://www.apache.org/licenses/LICENSE-2.0\n",
              "//\n",
              "// Unless required by applicable law or agreed to in writing, software\n",
              "// distributed under the License is distributed on an \"AS IS\" BASIS,\n",
              "// WITHOUT WARRANTIES OR CONDITIONS OF ANY KIND, either express or implied.\n",
              "// See the License for the specific language governing permissions and\n",
              "// limitations under the License.\n",
              "\n",
              "/**\n",
              " * @fileoverview Helpers for google.colab Python module.\n",
              " */\n",
              "(function(scope) {\n",
              "function span(text, styleAttributes = {}) {\n",
              "  const element = document.createElement('span');\n",
              "  element.textContent = text;\n",
              "  for (const key of Object.keys(styleAttributes)) {\n",
              "    element.style[key] = styleAttributes[key];\n",
              "  }\n",
              "  return element;\n",
              "}\n",
              "\n",
              "// Max number of bytes which will be uploaded at a time.\n",
              "const MAX_PAYLOAD_SIZE = 100 * 1024;\n",
              "\n",
              "function _uploadFiles(inputId, outputId) {\n",
              "  const steps = uploadFilesStep(inputId, outputId);\n",
              "  const outputElement = document.getElementById(outputId);\n",
              "  // Cache steps on the outputElement to make it available for the next call\n",
              "  // to uploadFilesContinue from Python.\n",
              "  outputElement.steps = steps;\n",
              "\n",
              "  return _uploadFilesContinue(outputId);\n",
              "}\n",
              "\n",
              "// This is roughly an async generator (not supported in the browser yet),\n",
              "// where there are multiple asynchronous steps and the Python side is going\n",
              "// to poll for completion of each step.\n",
              "// This uses a Promise to block the python side on completion of each step,\n",
              "// then passes the result of the previous step as the input to the next step.\n",
              "function _uploadFilesContinue(outputId) {\n",
              "  const outputElement = document.getElementById(outputId);\n",
              "  const steps = outputElement.steps;\n",
              "\n",
              "  const next = steps.next(outputElement.lastPromiseValue);\n",
              "  return Promise.resolve(next.value.promise).then((value) => {\n",
              "    // Cache the last promise value to make it available to the next\n",
              "    // step of the generator.\n",
              "    outputElement.lastPromiseValue = value;\n",
              "    return next.value.response;\n",
              "  });\n",
              "}\n",
              "\n",
              "/**\n",
              " * Generator function which is called between each async step of the upload\n",
              " * process.\n",
              " * @param {string} inputId Element ID of the input file picker element.\n",
              " * @param {string} outputId Element ID of the output display.\n",
              " * @return {!Iterable<!Object>} Iterable of next steps.\n",
              " */\n",
              "function* uploadFilesStep(inputId, outputId) {\n",
              "  const inputElement = document.getElementById(inputId);\n",
              "  inputElement.disabled = false;\n",
              "\n",
              "  const outputElement = document.getElementById(outputId);\n",
              "  outputElement.innerHTML = '';\n",
              "\n",
              "  const pickedPromise = new Promise((resolve) => {\n",
              "    inputElement.addEventListener('change', (e) => {\n",
              "      resolve(e.target.files);\n",
              "    });\n",
              "  });\n",
              "\n",
              "  const cancel = document.createElement('button');\n",
              "  inputElement.parentElement.appendChild(cancel);\n",
              "  cancel.textContent = 'Cancel upload';\n",
              "  const cancelPromise = new Promise((resolve) => {\n",
              "    cancel.onclick = () => {\n",
              "      resolve(null);\n",
              "    };\n",
              "  });\n",
              "\n",
              "  // Wait for the user to pick the files.\n",
              "  const files = yield {\n",
              "    promise: Promise.race([pickedPromise, cancelPromise]),\n",
              "    response: {\n",
              "      action: 'starting',\n",
              "    }\n",
              "  };\n",
              "\n",
              "  cancel.remove();\n",
              "\n",
              "  // Disable the input element since further picks are not allowed.\n",
              "  inputElement.disabled = true;\n",
              "\n",
              "  if (!files) {\n",
              "    return {\n",
              "      response: {\n",
              "        action: 'complete',\n",
              "      }\n",
              "    };\n",
              "  }\n",
              "\n",
              "  for (const file of files) {\n",
              "    const li = document.createElement('li');\n",
              "    li.append(span(file.name, {fontWeight: 'bold'}));\n",
              "    li.append(span(\n",
              "        `(${file.type || 'n/a'}) - ${file.size} bytes, ` +\n",
              "        `last modified: ${\n",
              "            file.lastModifiedDate ? file.lastModifiedDate.toLocaleDateString() :\n",
              "                                    'n/a'} - `));\n",
              "    const percent = span('0% done');\n",
              "    li.appendChild(percent);\n",
              "\n",
              "    outputElement.appendChild(li);\n",
              "\n",
              "    const fileDataPromise = new Promise((resolve) => {\n",
              "      const reader = new FileReader();\n",
              "      reader.onload = (e) => {\n",
              "        resolve(e.target.result);\n",
              "      };\n",
              "      reader.readAsArrayBuffer(file);\n",
              "    });\n",
              "    // Wait for the data to be ready.\n",
              "    let fileData = yield {\n",
              "      promise: fileDataPromise,\n",
              "      response: {\n",
              "        action: 'continue',\n",
              "      }\n",
              "    };\n",
              "\n",
              "    // Use a chunked sending to avoid message size limits. See b/62115660.\n",
              "    let position = 0;\n",
              "    do {\n",
              "      const length = Math.min(fileData.byteLength - position, MAX_PAYLOAD_SIZE);\n",
              "      const chunk = new Uint8Array(fileData, position, length);\n",
              "      position += length;\n",
              "\n",
              "      const base64 = btoa(String.fromCharCode.apply(null, chunk));\n",
              "      yield {\n",
              "        response: {\n",
              "          action: 'append',\n",
              "          file: file.name,\n",
              "          data: base64,\n",
              "        },\n",
              "      };\n",
              "\n",
              "      let percentDone = fileData.byteLength === 0 ?\n",
              "          100 :\n",
              "          Math.round((position / fileData.byteLength) * 100);\n",
              "      percent.textContent = `${percentDone}% done`;\n",
              "\n",
              "    } while (position < fileData.byteLength);\n",
              "  }\n",
              "\n",
              "  // All done.\n",
              "  yield {\n",
              "    response: {\n",
              "      action: 'complete',\n",
              "    }\n",
              "  };\n",
              "}\n",
              "\n",
              "scope.google = scope.google || {};\n",
              "scope.google.colab = scope.google.colab || {};\n",
              "scope.google.colab._files = {\n",
              "  _uploadFiles,\n",
              "  _uploadFilesContinue,\n",
              "};\n",
              "})(self);\n",
              "</script> "
            ]
          },
          "metadata": {}
        },
        {
          "output_type": "stream",
          "name": "stdout",
          "text": [
            "Saving kaggle.json to kaggle.json\n"
          ]
        },
        {
          "output_type": "execute_result",
          "data": {
            "text/plain": [
              "{'kaggle.json': b'{\"username\":\"anikaak3\",\"key\":\"9d162186c902baee7cdadf20979a6e36\"}'}"
            ]
          },
          "metadata": {},
          "execution_count": 3
        }
      ],
      "source": [
        "from google.colab import files\n",
        "files.upload()   # Choose kaggle.json when prompted"
      ]
    },
    {
      "cell_type": "code",
      "source": [
        "import numpy, pandas as pd, sklearn, matplotlib, imblearn, kaggle\n",
        "print(\"numpy:\", numpy.__version__)\n",
        "print(\"pandas:\", pandas.__version__)\n",
        "print(\"scikit-learn:\", sklearn.__version__)\n",
        "print(\"matplotlib:\", matplotlib.__version__)\n",
        "print(\"imblearn:\", imblearn.__version__)"
      ],
      "metadata": {
        "colab": {
          "base_uri": "https://localhost:8080/"
        },
        "id": "-b592E7ejjyi",
        "outputId": "5292e454-2b5e-49d0-89e1-73f4a079ce4b"
      },
      "execution_count": 5,
      "outputs": [
        {
          "output_type": "stream",
          "name": "stdout",
          "text": [
            "numpy: 2.0.2\n",
            "pandas: 2.2.2\n",
            "scikit-learn: 1.5.1\n",
            "matplotlib: 3.10.0\n",
            "imblearn: 0.12.3\n"
          ]
        }
      ]
    },
    {
      "cell_type": "code",
      "source": [
        "!mkdir -p ~/.kaggle\n",
        "!mv kaggle.json ~/.kaggle/\n",
        "!chmod 600 ~/.kaggle/kaggle.json"
      ],
      "metadata": {
        "id": "eRZTMFanj6Wb"
      },
      "execution_count": 6,
      "outputs": []
    },
    {
      "cell_type": "code",
      "source": [
        "import os, zipfile, pathlib, pandas as pd\n",
        "pathlib.Path(\"data\").mkdir(parents=True, exist_ok=True)\n",
        "!kaggle datasets download -d mlg-ulb/creditcardfraud -p data\n",
        "\n",
        "with zipfile.ZipFile(\"data/creditcardfraud.zip\") as zf:\n",
        "    zf.extractall(\"data\")\n",
        "\n",
        "!ls -lah data\n",
        "df = pd.read_csv(\"data/creditcard.csv\")\n",
        "print(df.shape)\n",
        "df.head()\n",
        "# Basic sanity checks\n",
        "df.info()\n",
        "print(\"\\nMissing values (total):\", df.isna().sum().sum())\n",
        "print(\"Duplicate rows (total):\", df.duplicated().sum())\n",
        "\n",
        "# Quick descriptive stats for 'Amount' and 'Time'\n",
        "df[['Time','Amount']].describe()\n",
        "\n"
      ],
      "metadata": {
        "colab": {
          "base_uri": "https://localhost:8080/",
          "height": 1000
        },
        "id": "_8Dj60kcnYmm",
        "outputId": "9a3dbf86-6541-4d75-98d3-e22c539b399d"
      },
      "execution_count": 9,
      "outputs": [
        {
          "output_type": "stream",
          "name": "stdout",
          "text": [
            "Warning: Looks like you're using an outdated API Version, please consider updating (server 1.7.4.2 / client 1.6.17)\n",
            "Dataset URL: https://www.kaggle.com/datasets/mlg-ulb/creditcardfraud\n",
            "License(s): DbCL-1.0\n",
            "creditcardfraud.zip: Skipping, found more recently modified local copy (use --force to force download)\n",
            "total 210M\n",
            "drwxr-xr-x 2 root root 4.0K Sep 12 05:46 .\n",
            "drwxr-xr-x 1 root root 4.0K Sep 12 06:15 ..\n",
            "-rw-r--r-- 1 root root 144M Sep 12 06:16 creditcard.csv\n",
            "-rw-r--r-- 1 root root  66M Sep 20  2019 creditcardfraud.zip\n",
            "(284807, 31)\n",
            "<class 'pandas.core.frame.DataFrame'>\n",
            "RangeIndex: 284807 entries, 0 to 284806\n",
            "Data columns (total 31 columns):\n",
            " #   Column  Non-Null Count   Dtype  \n",
            "---  ------  --------------   -----  \n",
            " 0   Time    284807 non-null  float64\n",
            " 1   V1      284807 non-null  float64\n",
            " 2   V2      284807 non-null  float64\n",
            " 3   V3      284807 non-null  float64\n",
            " 4   V4      284807 non-null  float64\n",
            " 5   V5      284807 non-null  float64\n",
            " 6   V6      284807 non-null  float64\n",
            " 7   V7      284807 non-null  float64\n",
            " 8   V8      284807 non-null  float64\n",
            " 9   V9      284807 non-null  float64\n",
            " 10  V10     284807 non-null  float64\n",
            " 11  V11     284807 non-null  float64\n",
            " 12  V12     284807 non-null  float64\n",
            " 13  V13     284807 non-null  float64\n",
            " 14  V14     284807 non-null  float64\n",
            " 15  V15     284807 non-null  float64\n",
            " 16  V16     284807 non-null  float64\n",
            " 17  V17     284807 non-null  float64\n",
            " 18  V18     284807 non-null  float64\n",
            " 19  V19     284807 non-null  float64\n",
            " 20  V20     284807 non-null  float64\n",
            " 21  V21     284807 non-null  float64\n",
            " 22  V22     284807 non-null  float64\n",
            " 23  V23     284807 non-null  float64\n",
            " 24  V24     284807 non-null  float64\n",
            " 25  V25     284807 non-null  float64\n",
            " 26  V26     284807 non-null  float64\n",
            " 27  V27     284807 non-null  float64\n",
            " 28  V28     284807 non-null  float64\n",
            " 29  Amount  284807 non-null  float64\n",
            " 30  Class   284807 non-null  int64  \n",
            "dtypes: float64(30), int64(1)\n",
            "memory usage: 67.4 MB\n",
            "\n",
            "Missing values (total): 0\n",
            "Duplicate rows (total): 1081\n"
          ]
        },
        {
          "output_type": "execute_result",
          "data": {
            "text/plain": [
              "                Time         Amount\n",
              "count  284807.000000  284807.000000\n",
              "mean    94813.859575      88.349619\n",
              "std     47488.145955     250.120109\n",
              "min         0.000000       0.000000\n",
              "25%     54201.500000       5.600000\n",
              "50%     84692.000000      22.000000\n",
              "75%    139320.500000      77.165000\n",
              "max    172792.000000   25691.160000"
            ],
            "text/html": [
              "\n",
              "  <div id=\"df-1d4cfcdd-c024-449a-b208-6050a943a188\" class=\"colab-df-container\">\n",
              "    <div>\n",
              "<style scoped>\n",
              "    .dataframe tbody tr th:only-of-type {\n",
              "        vertical-align: middle;\n",
              "    }\n",
              "\n",
              "    .dataframe tbody tr th {\n",
              "        vertical-align: top;\n",
              "    }\n",
              "\n",
              "    .dataframe thead th {\n",
              "        text-align: right;\n",
              "    }\n",
              "</style>\n",
              "<table border=\"1\" class=\"dataframe\">\n",
              "  <thead>\n",
              "    <tr style=\"text-align: right;\">\n",
              "      <th></th>\n",
              "      <th>Time</th>\n",
              "      <th>Amount</th>\n",
              "    </tr>\n",
              "  </thead>\n",
              "  <tbody>\n",
              "    <tr>\n",
              "      <th>count</th>\n",
              "      <td>284807.000000</td>\n",
              "      <td>284807.000000</td>\n",
              "    </tr>\n",
              "    <tr>\n",
              "      <th>mean</th>\n",
              "      <td>94813.859575</td>\n",
              "      <td>88.349619</td>\n",
              "    </tr>\n",
              "    <tr>\n",
              "      <th>std</th>\n",
              "      <td>47488.145955</td>\n",
              "      <td>250.120109</td>\n",
              "    </tr>\n",
              "    <tr>\n",
              "      <th>min</th>\n",
              "      <td>0.000000</td>\n",
              "      <td>0.000000</td>\n",
              "    </tr>\n",
              "    <tr>\n",
              "      <th>25%</th>\n",
              "      <td>54201.500000</td>\n",
              "      <td>5.600000</td>\n",
              "    </tr>\n",
              "    <tr>\n",
              "      <th>50%</th>\n",
              "      <td>84692.000000</td>\n",
              "      <td>22.000000</td>\n",
              "    </tr>\n",
              "    <tr>\n",
              "      <th>75%</th>\n",
              "      <td>139320.500000</td>\n",
              "      <td>77.165000</td>\n",
              "    </tr>\n",
              "    <tr>\n",
              "      <th>max</th>\n",
              "      <td>172792.000000</td>\n",
              "      <td>25691.160000</td>\n",
              "    </tr>\n",
              "  </tbody>\n",
              "</table>\n",
              "</div>\n",
              "    <div class=\"colab-df-buttons\">\n",
              "\n",
              "  <div class=\"colab-df-container\">\n",
              "    <button class=\"colab-df-convert\" onclick=\"convertToInteractive('df-1d4cfcdd-c024-449a-b208-6050a943a188')\"\n",
              "            title=\"Convert this dataframe to an interactive table.\"\n",
              "            style=\"display:none;\">\n",
              "\n",
              "  <svg xmlns=\"http://www.w3.org/2000/svg\" height=\"24px\" viewBox=\"0 -960 960 960\">\n",
              "    <path d=\"M120-120v-720h720v720H120Zm60-500h600v-160H180v160Zm220 220h160v-160H400v160Zm0 220h160v-160H400v160ZM180-400h160v-160H180v160Zm440 0h160v-160H620v160ZM180-180h160v-160H180v160Zm440 0h160v-160H620v160Z\"/>\n",
              "  </svg>\n",
              "    </button>\n",
              "\n",
              "  <style>\n",
              "    .colab-df-container {\n",
              "      display:flex;\n",
              "      gap: 12px;\n",
              "    }\n",
              "\n",
              "    .colab-df-convert {\n",
              "      background-color: #E8F0FE;\n",
              "      border: none;\n",
              "      border-radius: 50%;\n",
              "      cursor: pointer;\n",
              "      display: none;\n",
              "      fill: #1967D2;\n",
              "      height: 32px;\n",
              "      padding: 0 0 0 0;\n",
              "      width: 32px;\n",
              "    }\n",
              "\n",
              "    .colab-df-convert:hover {\n",
              "      background-color: #E2EBFA;\n",
              "      box-shadow: 0px 1px 2px rgba(60, 64, 67, 0.3), 0px 1px 3px 1px rgba(60, 64, 67, 0.15);\n",
              "      fill: #174EA6;\n",
              "    }\n",
              "\n",
              "    .colab-df-buttons div {\n",
              "      margin-bottom: 4px;\n",
              "    }\n",
              "\n",
              "    [theme=dark] .colab-df-convert {\n",
              "      background-color: #3B4455;\n",
              "      fill: #D2E3FC;\n",
              "    }\n",
              "\n",
              "    [theme=dark] .colab-df-convert:hover {\n",
              "      background-color: #434B5C;\n",
              "      box-shadow: 0px 1px 3px 1px rgba(0, 0, 0, 0.15);\n",
              "      filter: drop-shadow(0px 1px 2px rgba(0, 0, 0, 0.3));\n",
              "      fill: #FFFFFF;\n",
              "    }\n",
              "  </style>\n",
              "\n",
              "    <script>\n",
              "      const buttonEl =\n",
              "        document.querySelector('#df-1d4cfcdd-c024-449a-b208-6050a943a188 button.colab-df-convert');\n",
              "      buttonEl.style.display =\n",
              "        google.colab.kernel.accessAllowed ? 'block' : 'none';\n",
              "\n",
              "      async function convertToInteractive(key) {\n",
              "        const element = document.querySelector('#df-1d4cfcdd-c024-449a-b208-6050a943a188');\n",
              "        const dataTable =\n",
              "          await google.colab.kernel.invokeFunction('convertToInteractive',\n",
              "                                                    [key], {});\n",
              "        if (!dataTable) return;\n",
              "\n",
              "        const docLinkHtml = 'Like what you see? Visit the ' +\n",
              "          '<a target=\"_blank\" href=https://colab.research.google.com/notebooks/data_table.ipynb>data table notebook</a>'\n",
              "          + ' to learn more about interactive tables.';\n",
              "        element.innerHTML = '';\n",
              "        dataTable['output_type'] = 'display_data';\n",
              "        await google.colab.output.renderOutput(dataTable, element);\n",
              "        const docLink = document.createElement('div');\n",
              "        docLink.innerHTML = docLinkHtml;\n",
              "        element.appendChild(docLink);\n",
              "      }\n",
              "    </script>\n",
              "  </div>\n",
              "\n",
              "\n",
              "    <div id=\"df-9690db49-b1d3-4600-a220-1a0cb2da07d8\">\n",
              "      <button class=\"colab-df-quickchart\" onclick=\"quickchart('df-9690db49-b1d3-4600-a220-1a0cb2da07d8')\"\n",
              "                title=\"Suggest charts\"\n",
              "                style=\"display:none;\">\n",
              "\n",
              "<svg xmlns=\"http://www.w3.org/2000/svg\" height=\"24px\"viewBox=\"0 0 24 24\"\n",
              "     width=\"24px\">\n",
              "    <g>\n",
              "        <path d=\"M19 3H5c-1.1 0-2 .9-2 2v14c0 1.1.9 2 2 2h14c1.1 0 2-.9 2-2V5c0-1.1-.9-2-2-2zM9 17H7v-7h2v7zm4 0h-2V7h2v10zm4 0h-2v-4h2v4z\"/>\n",
              "    </g>\n",
              "</svg>\n",
              "      </button>\n",
              "\n",
              "<style>\n",
              "  .colab-df-quickchart {\n",
              "      --bg-color: #E8F0FE;\n",
              "      --fill-color: #1967D2;\n",
              "      --hover-bg-color: #E2EBFA;\n",
              "      --hover-fill-color: #174EA6;\n",
              "      --disabled-fill-color: #AAA;\n",
              "      --disabled-bg-color: #DDD;\n",
              "  }\n",
              "\n",
              "  [theme=dark] .colab-df-quickchart {\n",
              "      --bg-color: #3B4455;\n",
              "      --fill-color: #D2E3FC;\n",
              "      --hover-bg-color: #434B5C;\n",
              "      --hover-fill-color: #FFFFFF;\n",
              "      --disabled-bg-color: #3B4455;\n",
              "      --disabled-fill-color: #666;\n",
              "  }\n",
              "\n",
              "  .colab-df-quickchart {\n",
              "    background-color: var(--bg-color);\n",
              "    border: none;\n",
              "    border-radius: 50%;\n",
              "    cursor: pointer;\n",
              "    display: none;\n",
              "    fill: var(--fill-color);\n",
              "    height: 32px;\n",
              "    padding: 0;\n",
              "    width: 32px;\n",
              "  }\n",
              "\n",
              "  .colab-df-quickchart:hover {\n",
              "    background-color: var(--hover-bg-color);\n",
              "    box-shadow: 0 1px 2px rgba(60, 64, 67, 0.3), 0 1px 3px 1px rgba(60, 64, 67, 0.15);\n",
              "    fill: var(--button-hover-fill-color);\n",
              "  }\n",
              "\n",
              "  .colab-df-quickchart-complete:disabled,\n",
              "  .colab-df-quickchart-complete:disabled:hover {\n",
              "    background-color: var(--disabled-bg-color);\n",
              "    fill: var(--disabled-fill-color);\n",
              "    box-shadow: none;\n",
              "  }\n",
              "\n",
              "  .colab-df-spinner {\n",
              "    border: 2px solid var(--fill-color);\n",
              "    border-color: transparent;\n",
              "    border-bottom-color: var(--fill-color);\n",
              "    animation:\n",
              "      spin 1s steps(1) infinite;\n",
              "  }\n",
              "\n",
              "  @keyframes spin {\n",
              "    0% {\n",
              "      border-color: transparent;\n",
              "      border-bottom-color: var(--fill-color);\n",
              "      border-left-color: var(--fill-color);\n",
              "    }\n",
              "    20% {\n",
              "      border-color: transparent;\n",
              "      border-left-color: var(--fill-color);\n",
              "      border-top-color: var(--fill-color);\n",
              "    }\n",
              "    30% {\n",
              "      border-color: transparent;\n",
              "      border-left-color: var(--fill-color);\n",
              "      border-top-color: var(--fill-color);\n",
              "      border-right-color: var(--fill-color);\n",
              "    }\n",
              "    40% {\n",
              "      border-color: transparent;\n",
              "      border-right-color: var(--fill-color);\n",
              "      border-top-color: var(--fill-color);\n",
              "    }\n",
              "    60% {\n",
              "      border-color: transparent;\n",
              "      border-right-color: var(--fill-color);\n",
              "    }\n",
              "    80% {\n",
              "      border-color: transparent;\n",
              "      border-right-color: var(--fill-color);\n",
              "      border-bottom-color: var(--fill-color);\n",
              "    }\n",
              "    90% {\n",
              "      border-color: transparent;\n",
              "      border-bottom-color: var(--fill-color);\n",
              "    }\n",
              "  }\n",
              "</style>\n",
              "\n",
              "      <script>\n",
              "        async function quickchart(key) {\n",
              "          const quickchartButtonEl =\n",
              "            document.querySelector('#' + key + ' button');\n",
              "          quickchartButtonEl.disabled = true;  // To prevent multiple clicks.\n",
              "          quickchartButtonEl.classList.add('colab-df-spinner');\n",
              "          try {\n",
              "            const charts = await google.colab.kernel.invokeFunction(\n",
              "                'suggestCharts', [key], {});\n",
              "          } catch (error) {\n",
              "            console.error('Error during call to suggestCharts:', error);\n",
              "          }\n",
              "          quickchartButtonEl.classList.remove('colab-df-spinner');\n",
              "          quickchartButtonEl.classList.add('colab-df-quickchart-complete');\n",
              "        }\n",
              "        (() => {\n",
              "          let quickchartButtonEl =\n",
              "            document.querySelector('#df-9690db49-b1d3-4600-a220-1a0cb2da07d8 button');\n",
              "          quickchartButtonEl.style.display =\n",
              "            google.colab.kernel.accessAllowed ? 'block' : 'none';\n",
              "        })();\n",
              "      </script>\n",
              "    </div>\n",
              "\n",
              "    </div>\n",
              "  </div>\n"
            ],
            "application/vnd.google.colaboratory.intrinsic+json": {
              "type": "dataframe",
              "summary": "{\n  \"name\": \"df[['Time','Amount']]\",\n  \"rows\": 8,\n  \"fields\": [\n    {\n      \"column\": \"Time\",\n      \"properties\": {\n        \"dtype\": \"number\",\n        \"std\": 88923.6336142936,\n        \"min\": 0.0,\n        \"max\": 284807.0,\n        \"num_unique_values\": 8,\n        \"samples\": [\n          94813.85957508067,\n          84692.0,\n          284807.0\n        ],\n        \"semantic_type\": \"\",\n        \"description\": \"\"\n      }\n    },\n    {\n      \"column\": \"Amount\",\n      \"properties\": {\n        \"dtype\": \"number\",\n        \"std\": 99778.01856206654,\n        \"min\": 0.0,\n        \"max\": 284807.0,\n        \"num_unique_values\": 8,\n        \"samples\": [\n          88.34961925093133,\n          22.0,\n          284807.0\n        ],\n        \"semantic_type\": \"\",\n        \"description\": \"\"\n      }\n    }\n  ]\n}"
            }
          },
          "metadata": {},
          "execution_count": 9
        }
      ]
    },
    {
      "cell_type": "markdown",
      "source": [
        "# Part A: Data Exploration and Baseline Model\n"
      ],
      "metadata": {
        "id": "8EvP8TeCkHAk"
      }
    },
    {
      "cell_type": "markdown",
      "source": [
        "## Class Distribution\n",
        "\n",
        "Quantified the ratio of **non-fraud (0)** vs **fraud (1)** and visualized using bar plot and pie chart.\n",
        "Fraud is typically far below 1% of all transactions.\n"
      ],
      "metadata": {
        "id": "HvSasAgspTwW"
      }
    },
    {
      "cell_type": "code",
      "source": [
        "import matplotlib.pyplot as plt\n",
        "\n",
        "counts = df['Class'].value_counts().sort_index()\n",
        "fraud_pct = counts[1] / counts.sum() * 100\n",
        "\n",
        "print(\"Counts:\\n\", counts)\n",
        "print(f\"Fraud share: {fraud_pct:.4f}%\")\n",
        "\n",
        "# Bar plot\n",
        "fig, ax = plt.subplots(figsize=(5,4))\n",
        "ax.bar(['Non-Fraud (0)', 'Fraud (1)'], counts.values)\n",
        "ax.set_title('Class Distribution')\n",
        "ax.set_ylabel('Count')\n",
        "for i, v in enumerate(counts.values):\n",
        "    ax.text(i, v, f\"{v:,}\", ha='center', va='bottom')\n",
        "plt.show()\n",
        "\n",
        "# Pie chart\n",
        "fig, ax = plt.subplots(figsize=(5,5))\n",
        "ax.pie(counts.values, labels=['Non-Fraud','Fraud'], autopct='%1.4f%%', startangle=90)\n",
        "ax.set_title('Class Distribution (%)')\n",
        "plt.show()\n"
      ],
      "metadata": {
        "colab": {
          "base_uri": "https://localhost:8080/",
          "height": 922
        },
        "id": "rphHv2VpkP3t",
        "outputId": "206bb043-c3b4-44e4-9b68-4ee5b237310a"
      },
      "execution_count": 10,
      "outputs": [
        {
          "output_type": "stream",
          "name": "stdout",
          "text": [
            "Counts:\n",
            " Class\n",
            "0    284315\n",
            "1       492\n",
            "Name: count, dtype: int64\n",
            "Fraud share: 0.1727%\n"
          ]
        },
        {
          "output_type": "display_data",
          "data": {
            "text/plain": [
              "<Figure size 500x400 with 1 Axes>"
            ],
            "image/png": "[encoded data removed]"
          },
          "metadata": {}
        },
        {
          "output_type": "display_data",
          "data": {
            "text/plain": [
              "<Figure size 500x500 with 1 Axes>"
            ],
            "image/png": "[encoded data removed]"
          },
          "metadata": {}
        }
      ]
    },
    {
      "cell_type": "markdown",
      "source": [
        "## Train/Test Split (Stratified)\n",
        "\n",
        "We’ll split with **stratify=y** so the global ratio is preserved in both splits. (Test retains its original split).\n",
        "The **test set remains imbalanced** and is **never resampled** — that’s our ground truth\n",
        "for unbiased evaluation.\n",
        "Features scaled to keep magnitude consistent for `Amount`, other components already PCA-like."
      ],
      "metadata": {
        "id": "PE90xaYYpiEy"
      }
    },
    {
      "cell_type": "code",
      "source": [
        "from collections import Counter\n",
        "from sklearn.model_selection import train_test_split\n",
        "from sklearn.preprocessing import StandardScaler\n",
        "\n",
        "X = df.drop(columns=['Class'])\n",
        "y = df['Class']\n",
        "\n",
        "X_train, X_test, y_train, y_test = train_test_split(\n",
        "    X, y, test_size=0.25, random_state=42, stratify=y\n",
        ")\n",
        "\n",
        "print(\"Train shape:\", X_train.shape, Counter(y_train))\n",
        "print(\"Test  shape:\", X_test.shape, Counter(y_test))\n",
        "\n",
        "# Scale (with_mean=False is safe for sparse; here it's dense but still fine)\n",
        "scaler = StandardScaler(with_mean=False)\n",
        "X_train_scaled = scaler.fit_transform(X_train)\n",
        "X_test_scaled  = scaler.transform(X_test)\n"
      ],
      "metadata": {
        "colab": {
          "base_uri": "https://localhost:8080/"
        },
        "id": "dwxCiCLbpaAV",
        "outputId": "d978db1d-d688-40b1-c7a9-89018ffee7dc"
      },
      "execution_count": 11,
      "outputs": [
        {
          "output_type": "stream",
          "name": "stdout",
          "text": [
            "Train shape: (213605, 30) Counter({0: 213236, 1: 369})\n",
            "Test  shape: (71202, 30) Counter({0: 71079, 1: 123})\n"
          ]
        }
      ]
    },
    {
      "cell_type": "markdown",
      "source": [
        "## Baseline: Logistic Regression (no resampling)\n",
        "\n",
        "This gives us a reference point before any data balancing using\n",
        "- Class-1 (fraud) **precision**, **recall**, **F1**\n",
        "- **ROC-AUC** and **PR-AUC** (Average Precision)\n",
        "\n"
      ],
      "metadata": {
        "id": "BIpxP6e0pmy5"
      }
    },
    {
      "cell_type": "code",
      "source": [
        "from sklearn.linear_model import LogisticRegression\n",
        "from sklearn.metrics import (classification_report, confusion_matrix,\n",
        "                             roc_auc_score, average_precision_score)\n",
        "\n",
        "lr_base = LogisticRegression(max_iter=1000, random_state=42)\n",
        "lr_base.fit(X_train_scaled, y_train)\n",
        "\n",
        "y_pred_base = lr_base.predict(X_test_scaled)\n",
        "y_proba_base = lr_base.predict_proba(X_test_scaled)[:, 1]\n",
        "\n",
        "print(\"Classification report (Baseline):\\n\")\n",
        "print(classification_report(y_test, y_pred_base, digits=4))\n",
        "print(\"Confusion matrix (Baseline):\")\n",
        "print(confusion_matrix(y_test, y_pred_base))\n",
        "print(\"ROC-AUC:\", roc_auc_score(y_test, y_proba_base))\n",
        "print(\"PR-AUC (Average Precision):\", average_precision_score(y_test, y_proba_base))\n"
      ],
      "metadata": {
        "colab": {
          "base_uri": "https://localhost:8080/"
        },
        "id": "2OChl9jipkof",
        "outputId": "c2f21397-19ec-4b8e-f217-d6dd7fa8a2ba"
      },
      "execution_count": 12,
      "outputs": [
        {
          "output_type": "stream",
          "name": "stdout",
          "text": [
            "Classification report (Baseline):\n",
            "\n",
            "              precision    recall  f1-score   support\n",
            "\n",
            "           0     0.9994    0.9998    0.9996     71079\n",
            "           1     0.8495    0.6423    0.7315       123\n",
            "\n",
            "    accuracy                         0.9992     71202\n",
            "   macro avg     0.9244    0.8210    0.8655     71202\n",
            "weighted avg     0.9991    0.9992    0.9991     71202\n",
            "\n",
            "Confusion matrix (Baseline):\n",
            "[[71065    14]\n",
            " [   44    79]]\n",
            "ROC-AUC: 0.9556994696271193\n",
            "PR-AUC (Average Precision): 0.7186852980280755\n"
          ]
        }
      ]
    },
    {
      "cell_type": "markdown",
      "source": [
        "### Baseline Curves\n",
        "\n",
        "- **PR Curve** is more telling under imbalance: it shows the trade-off between\n",
        "**precision** (purity of fraud alerts) and **recall** (how many frauds we catch).\n",
        "- **ROC Curve** is also informative, but PR is usually the go-to here.\n"
      ],
      "metadata": {
        "id": "x1u0m_zGpr78"
      }
    },
    {
      "cell_type": "code",
      "source": [
        "from sklearn.metrics import precision_recall_curve, roc_curve\n",
        "\n",
        "# PR curve\n",
        "prec, rec, thr = precision_recall_curve(y_test, y_proba_base)\n",
        "plt.figure(figsize=(5,4))\n",
        "plt.plot(rec, prec)\n",
        "plt.title('Baseline: Precision-Recall Curve')\n",
        "plt.xlabel('Recall'); plt.ylabel('Precision')\n",
        "plt.grid(True); plt.show()\n",
        "\n",
        "# ROC curve\n",
        "fpr, tpr, thr = roc_curve(y_test, y_proba_base)\n",
        "plt.figure(figsize=(5,4))\n",
        "plt.plot(fpr, tpr)\n",
        "plt.title('Baseline: ROC Curve')\n",
        "plt.xlabel('False Positive Rate'); plt.ylabel('True Positive Rate')\n",
        "plt.grid(True); plt.show()\n"
      ],
      "metadata": {
        "colab": {
          "base_uri": "https://localhost:8080/",
          "height": 803
        },
        "id": "kjpKh1SFppor",
        "outputId": "9e885b4c-9127-4b93-e27a-3930a5c355ba"
      },
      "execution_count": 13,
      "outputs": [
        {
          "output_type": "display_data",
          "data": {
            "text/plain": [
              "<Figure size 500x400 with 1 Axes>"
            ],
            "image/png": "[encoded data removed]"
          },
          "metadata": {}
        },
        {
          "output_type": "display_data",
          "data": {
            "text/plain": [
              "<Figure size 500x400 with 1 Axes>"
            ],
            "image/png": "[encoded data removed]"
          },
          "metadata": {}
        }
      ]
    },
    {
      "cell_type": "markdown",
      "source": [
        "> **Concept Q:** Why is accuracy misleading here?\n",
        ">\n",
        "> Because the dataset is extremely imbalanced. A “predict all 0s” classifier\n",
        "would achieve >99.8% accuracy yet **0 recall** on frauds — failing the task.\n",
        "Therefore, we favor **precision/recall/F1** for class 1 and **PR-AUC**.\n"
      ],
      "metadata": {
        "id": "TTvdlAm8pyS8"
      }
    },
    {
      "cell_type": "markdown",
      "source": [
        "# Part B — Resampling Strategies\n",
        "\n",
        "## SMOTE (Naive Oversampling)\n",
        "**SMOTE** synthesizes minority examples by interpolating between a point and its\n",
        "*k* nearest minority neighbors, densifying sparse regions.\n",
        "\n",
        "**Pros:** Easy, typically increases recall.  \n",
        "**Cons:** May create borderline or overlapping samples near class boundaries,\n",
        "assumes local linearity, and doesn’t preserve multi-modal structure well.\n"
      ],
      "metadata": {
        "id": "MVUdxvZnp3gK"
      }
    },
    {
      "cell_type": "code",
      "source": [
        "from imblearn.over_sampling import SMOTE\n",
        "\n",
        "sm = SMOTE(random_state=42, k_neighbors=5, n_jobs=-1)\n",
        "X_tr_smote, y_tr_smote = sm.fit_resample(X_train_scaled, y_train)\n",
        "\n",
        "print(\"After SMOTE:\", X_tr_smote.shape, Counter(y_tr_smote))\n",
        "\n",
        "lr_smote = LogisticRegression(max_iter=1000, random_state=42)\n",
        "lr_smote.fit(X_tr_smote, y_tr_smote)\n",
        "\n",
        "y_pred_smote = lr_smote.predict(X_test_scaled)\n",
        "y_proba_smote = lr_smote.predict_proba(X_test_scaled)[:, 1]\n",
        "\n",
        "print(\"Classification report (SMOTE):\\n\")\n",
        "print(classification_report(y_test, y_pred_smote, digits=4))\n",
        "print(\"Confusion matrix (SMOTE):\")\n",
        "print(confusion_matrix(y_test, y_pred_smote))\n",
        "print(\"ROC-AUC:\", roc_auc_score(y_test, y_proba_smote))\n",
        "print(\"PR-AUC:\", average_precision_score(y_test, y_proba_smote))\n"
      ],
      "metadata": {
        "colab": {
          "base_uri": "https://localhost:8080/"
        },
        "id": "FgI2XEc4puPh",
        "outputId": "88472634-6407-40cb-8935-53cf78fa12c9"
      },
      "execution_count": 14,
      "outputs": [
        {
          "output_type": "stream",
          "name": "stderr",
          "text": [
            "/usr/local/lib/python3.12/dist-packages/imblearn/over_sampling/_smote/base.py:370: FutureWarning: The parameter `n_jobs` has been deprecated in 0.10 and will be removed in 0.12. You can pass an nearest neighbors estimator where `n_jobs` is already set instead.\n",
            "  warnings.warn(\n"
          ]
        },
        {
          "output_type": "stream",
          "name": "stdout",
          "text": [
            "After SMOTE: (426472, 30) Counter({0: 213236, 1: 213236})\n",
            "Classification report (SMOTE):\n",
            "\n",
            "              precision    recall  f1-score   support\n",
            "\n",
            "           0     0.9998    0.9756    0.9875     71079\n",
            "           1     0.0591    0.8862    0.1108       123\n",
            "\n",
            "    accuracy                         0.9754     71202\n",
            "   macro avg     0.5294    0.9309    0.5492     71202\n",
            "weighted avg     0.9982    0.9754    0.9860     71202\n",
            "\n",
            "Confusion matrix (SMOTE):\n",
            "[[69343  1736]\n",
            " [   14   109]]\n",
            "ROC-AUC: 0.9724674835065575\n",
            "PR-AUC: 0.7118635149766389\n"
          ]
        }
      ]
    },
    {
      "cell_type": "markdown",
      "source": [
        "## Clustering-Based Oversampling (CBO)\n",
        "\n",
        "**Idea:** The minority class can be **multi-modal** (multiple sub-groups).\n",
        "We first **cluster** the minority training data, then **oversample within\n",
        "each cluster** so small modes aren’t drowned out.\n",
        "\n",
        "**Why it helps:** SMOTE may inflate dense areas and ignore rare sub-modes.\n",
        "CBO preserves **diversity** and local structure by growing each sub-group\n",
        "proportionally.\n"
      ],
      "metadata": {
        "id": "gb7lzOJZqAjI"
      }
    },
    {
      "cell_type": "code",
      "source": [
        "# === Improved CBO using KMeansSMOTE ===\n",
        "from imblearn.over_sampling import KMeansSMOTE\n",
        "from sklearn.cluster import KMeans\n",
        "from collections import Counter\n",
        "\n",
        "# Split train set by class\n",
        "Xtr_min = X_train_scaled[y_train == 1]\n",
        "Xtr_maj = X_train_scaled[y_train == 0]\n",
        "\n",
        "# Function to pick k for minority clusters\n",
        "from sklearn.metrics import silhouette_score\n",
        "def choose_k_by_silhouette(X, k_grid=range(6, 13), random_state=42):\n",
        "    best_k, best_s = None, -1\n",
        "    for k in k_grid:\n",
        "        km = KMeans(n_clusters=k, n_init='auto', random_state=random_state)\n",
        "        lab = km.fit_predict(X)\n",
        "        if len(np.unique(lab)) < 2:\n",
        "            continue\n",
        "        s = silhouette_score(X, lab)\n",
        "        if s > best_s:\n",
        "            best_k, best_s = k, s\n",
        "    return best_k or 8\n",
        "\n",
        "k_min = choose_k_by_silhouette(Xtr_min, range(6, 13), random_state=42)\n",
        "\n",
        "cbo = KMeansSMOTE(\n",
        "    kmeans_estimator=KMeans(n_clusters=k_min, n_init='auto', random_state=42),\n",
        "    random_state=42,\n",
        "    cluster_balance_threshold=0.05  # avoids flooding small clusters\n",
        ")\n",
        "\n",
        "X_tr_cbo, y_tr_cbo = cbo.fit_resample(X_train_scaled, y_train)\n",
        "\n",
        "# Optional: downscale if minority overshoots majority\n",
        "target_ratio = 0.8\n",
        "maj = X_tr_cbo[y_tr_cbo == 0]\n",
        "minr = X_tr_cbo[y_tr_cbo == 1]\n",
        "if len(minr) > target_ratio * len(maj):\n",
        "    keep = int(target_ratio * len(maj))\n",
        "    idx = np.random.default_rng(42).choice(len(minr), size=keep, replace=False)\n",
        "    X_tr_cbo = np.vstack([maj, minr[idx]])\n",
        "    y_tr_cbo = np.hstack([np.zeros(len(maj), dtype=int), np.ones(keep, dtype=int)])\n",
        "\n",
        "print(\"CBO-balanced:\", X_tr_cbo.shape, Counter(y_tr_cbo))\n"
      ],
      "metadata": {
        "colab": {
          "base_uri": "https://localhost:8080/"
        },
        "id": "igEbzZyclomH",
        "outputId": "3c767c7a-12fb-4466-e501-08ca3b4869ef"
      },
      "execution_count": 23,
      "outputs": [
        {
          "output_type": "stream",
          "name": "stdout",
          "text": [
            "CBO-balanced: (383824, 30) Counter({np.int64(0): 213236, np.int64(1): 170588})\n"
          ]
        }
      ]
    },
    {
      "cell_type": "markdown",
      "source": [
        "### Train & Evaluate — CBO\n",
        "\n",
        "We train the same Logistic Regression on the CBO-balanced training set and test\n",
        "on the **original imbalanced** test set (unchanged).\n"
      ],
      "metadata": {
        "id": "fwPmsIf7qE5O"
      }
    },
    {
      "cell_type": "code",
      "source": [
        "lr_cbo = LogisticRegression(max_iter=1000, random_state=42)\n",
        "lr_cbo.fit(X_tr_cbo, y_tr_cbo)\n",
        "\n",
        "y_pred_cbo = lr_cbo.predict(X_test_scaled)\n",
        "y_proba_cbo = lr_cbo.predict_proba(X_test_scaled)[:, 1]\n",
        "\n",
        "print(\"Classification report (CBO):\\n\")\n",
        "print(classification_report(y_test, y_pred_cbo, digits=4))\n",
        "print(\"Confusion matrix (CBO):\")\n",
        "print(confusion_matrix(y_test, y_pred_cbo))\n",
        "print(\"ROC-AUC:\", roc_auc_score(y_test, y_proba_cbo))\n",
        "print(\"PR-AUC:\", average_precision_score(y_test, y_proba_cbo))\n"
      ],
      "metadata": {
        "colab": {
          "base_uri": "https://localhost:8080/"
        },
        "id": "yj9CJQymqDKk",
        "outputId": "f05153d5-2314-495e-b893-51adfd440997"
      },
      "execution_count": 24,
      "outputs": [
        {
          "output_type": "stream",
          "name": "stdout",
          "text": [
            "Classification report (CBO):\n",
            "\n",
            "              precision    recall  f1-score   support\n",
            "\n",
            "           0     0.9995    0.9998    0.9996     71079\n",
            "           1     0.8462    0.7154    0.7753       123\n",
            "\n",
            "    accuracy                         0.9993     71202\n",
            "   macro avg     0.9228    0.8576    0.8875     71202\n",
            "weighted avg     0.9992    0.9993    0.9993     71202\n",
            "\n",
            "Confusion matrix (CBO):\n",
            "[[71063    16]\n",
            " [   35    88]]\n",
            "ROC-AUC: 0.9488188854791935\n",
            "PR-AUC: 0.7157362232572577\n"
          ]
        }
      ]
    },
    {
      "cell_type": "markdown",
      "source": [
        "## Clustering-Based Undersampling (CBU)\n",
        "\n",
        "**Idea:** Cluster the **majority** training data and sample **within clusters**\n",
        "to reduce the majority size while **preserving its distributional shape**.\n",
        "We’ll aim for a 1:1 class ratio w.r.t. minority (tunable).\n",
        "\n",
        "**Pros:** No synthetic data; better representativeness than random undersampling.  \n",
        "**Cons:** You may discard potentially useful majority points if you downsample too much.\n"
      ],
      "metadata": {
        "id": "qfGi9CrhqIlh"
      }
    },
    {
      "cell_type": "code",
      "source": [
        "# Fit KMeans to majority\n",
        "k_maj = 10  # tunable; can use elbow\n",
        "kmeans_maj = KMeans(n_clusters=k_maj, random_state=42, n_init='auto')\n",
        "maj_labels = kmeans_maj.fit_predict(Xtr_maj)\n",
        "\n",
        "# Split majority by cluster\n",
        "maj_cluster_arrays = [Xtr_maj[maj_labels == i] for i in range(k_maj)]\n",
        "maj_sizes = [len(arr) for arr in maj_cluster_arrays]\n",
        "total_maj = sum(maj_sizes)\n",
        "\n",
        "# Target majority size: keep ~1.2x the minority\n",
        "target_ratio = 1.3   # try 1.0–1.5\n",
        "target_maj = int(target_ratio * len(Xtr_min))\n",
        "\n",
        "\n",
        "# Target majority size: match minority originals (not synthesized)\n",
        "#target_maj = Xtr_min.shape[0]\n",
        "\n",
        "# Allocate keep-quotas proportionally to cluster sizes\n",
        "keep_quotas = []\n",
        "for size in maj_sizes:\n",
        "    prop = size / total_maj if total_maj else 0\n",
        "    keep_quotas.append(int(round(prop * target_maj)))\n",
        "\n",
        "# Fix rounding drift\n",
        "drift = target_maj - sum(keep_quotas)\n",
        "for i in range(abs(drift)):\n",
        "    keep_quotas[i % k_maj] += 1 if drift > 0 else -1\n",
        "\n",
        "# Sample within clusters without replacement\n",
        "rng = np.random.default_rng(123)\n",
        "kept_majority = []\n",
        "for arr, q in zip(maj_cluster_arrays, keep_quotas):\n",
        "    q = min(q, len(arr))\n",
        "    if q > 0 and len(arr) > 0:\n",
        "        idx = rng.choice(len(arr), size=q, replace=False)\n",
        "        kept_majority.append(arr[idx])\n",
        "kept_majority = np.vstack(kept_majority)\n",
        "\n",
        "# Build CBU training set\n",
        "X_tr_cbu = np.vstack([kept_majority, Xtr_min])\n",
        "y_tr_cbu = np.hstack([\n",
        "    np.zeros(len(kept_majority), dtype=int),\n",
        "    np.ones(len(Xtr_min), dtype=int)\n",
        "])\n",
        "\n",
        "print(\"CBU-balanced:\", X_tr_cbu.shape, Counter(y_tr_cbu))\n"
      ],
      "metadata": {
        "colab": {
          "base_uri": "https://localhost:8080/"
        },
        "id": "cMeFamY8qG2S",
        "outputId": "43047280-05f2-4278-9fdc-4751b13d5aa0"
      },
      "execution_count": 33,
      "outputs": [
        {
          "output_type": "stream",
          "name": "stdout",
          "text": [
            "CBU-balanced: (848, 30) Counter({np.int64(0): 479, np.int64(1): 369})\n"
          ]
        }
      ]
    },
    {
      "cell_type": "markdown",
      "source": [
        "### Train & Evaluate — CBU\n",
        "\n",
        "This model sees fewer majority examples, but they’re chosen **representatively** across clusters.\n"
      ],
      "metadata": {
        "id": "xb9bgehMqMjC"
      }
    },
    {
      "cell_type": "code",
      "source": [
        "lr_cbu = LogisticRegression(max_iter=1000, random_state=42)\n",
        "lr_cbu.fit(X_tr_cbu, y_tr_cbu)\n",
        "\n",
        "y_pred_cbu = lr_cbu.predict(X_test_scaled)\n",
        "y_proba_cbu = lr_cbu.predict_proba(X_test_scaled)[:, 1]\n",
        "\n",
        "print(\"Classification report (CBU):\\n\")\n",
        "print(classification_report(y_test, y_pred_cbu, digits=4))\n",
        "print(\"Confusion matrix (CBU):\")\n",
        "print(confusion_matrix(y_test, y_pred_cbu))\n",
        "print(\"ROC-AUC:\", roc_auc_score(y_test, y_proba_cbu))\n",
        "print(\"PR-AUC:\", average_precision_score(y_test, y_proba_cbu))\n"
      ],
      "metadata": {
        "colab": {
          "base_uri": "https://localhost:8080/"
        },
        "id": "dr-Me87AqLEs",
        "outputId": "ca976319-3f2a-484d-9a19-3bace5c7ce1a"
      },
      "execution_count": 34,
      "outputs": [
        {
          "output_type": "stream",
          "name": "stdout",
          "text": [
            "Classification report (CBU):\n",
            "\n",
            "              precision    recall  f1-score   support\n",
            "\n",
            "           0     0.9998    0.9806    0.9901     71079\n",
            "           1     0.0725    0.8780    0.1340       123\n",
            "\n",
            "    accuracy                         0.9804     71202\n",
            "   macro avg     0.5362    0.9293    0.5620     71202\n",
            "weighted avg     0.9982    0.9804    0.9886     71202\n",
            "\n",
            "Confusion matrix (CBU):\n",
            "[[69698  1381]\n",
            " [   15   108]]\n",
            "ROC-AUC: 0.9705108835159595\n",
            "PR-AUC: 0.6500490458096972\n"
          ]
        }
      ]
    },
    {
      "cell_type": "markdown",
      "source": [
        "# Part C — Model Comparison & Story\n",
        "\n",
        "We’ll summarize metrics for:\n",
        "- **Baseline** (no resampling)\n",
        "- **SMOTE**\n",
        "- **CBO** (clustering-based oversampling)\n",
        "- **CBU** (clustering-based undersampling)\n",
        "\n",
        "Key focus: **class-1 precision/recall/F1**, **PR-AUC**, and **ROC-AUC** on the *untouched*\n",
        "imbalanced test set (our real-world proxy).\n"
      ],
      "metadata": {
        "id": "RDxizKvmqUbM"
      }
    },
    {
      "cell_type": "code",
      "source": [
        "import pandas as pd\n",
        "from sklearn.metrics import classification_report, roc_auc_score, average_precision_score\n",
        "\n",
        "def metrics(y_true, y_proba, y_pred):\n",
        "    rep = classification_report(y_true, y_pred, output_dict=True)\n",
        "    return {\n",
        "        \"Precision_1\": rep['1']['precision'],\n",
        "        \"Recall_1\":    rep['1']['recall'],\n",
        "        \"F1_1\":        rep['1']['f1-score'],\n",
        "        \"ROC_AUC\":     roc_auc_score(y_true, y_proba),\n",
        "        \"PR_AUC\":      average_precision_score(y_true, y_proba)\n",
        "    }\n",
        "\n",
        "summary = pd.DataFrame([\n",
        "    {\"Model\":\"Baseline\", **metrics(y_test, y_proba_base, y_pred_base)},\n",
        "    {\"Model\":\"SMOTE\",    **metrics(y_test, y_proba_smote, y_pred_smote)},\n",
        "    {\"Model\":\"CBO\",      **metrics(y_test, y_proba_cbo,   y_pred_cbo)},\n",
        "    {\"Model\":\"CBU\",      **metrics(y_test, y_proba_cbu,   y_pred_cbu)},\n",
        "])\n",
        "\n",
        "summary\n"
      ],
      "metadata": {
        "colab": {
          "base_uri": "https://localhost:8080/",
          "height": 175
        },
        "id": "7xwkXjmUqOaP",
        "outputId": "bcc52080-338f-4007-ab46-8f690524ab44"
      },
      "execution_count": 35,
      "outputs": [
        {
          "output_type": "execute_result",
          "data": {
            "text/plain": [
              "      Model  Precision_1  Recall_1      F1_1   ROC_AUC    PR_AUC\n",
              "0  Baseline     0.849462  0.642276  0.731481  0.955699  0.718685\n",
              "1     SMOTE     0.059079  0.886179  0.110772  0.972467  0.711864\n",
              "2       CBO     0.846154  0.715447  0.775330  0.948819  0.715736\n",
              "3       CBU     0.072532  0.878049  0.133995  0.970511  0.650049"
            ],
            "text/html": [
              "\n",
              "  <div id=\"df-9d419973-11e5-4525-9d01-5c40384550e9\" class=\"colab-df-container\">\n",
              "    <div>\n",
              "<style scoped>\n",
              "    .dataframe tbody tr th:only-of-type {\n",
              "        vertical-align: middle;\n",
              "    }\n",
              "\n",
              "    .dataframe tbody tr th {\n",
              "        vertical-align: top;\n",
              "    }\n",
              "\n",
              "    .dataframe thead th {\n",
              "        text-align: right;\n",
              "    }\n",
              "</style>\n",
              "<table border=\"1\" class=\"dataframe\">\n",
              "  <thead>\n",
              "    <tr style=\"text-align: right;\">\n",
              "      <th></th>\n",
              "      <th>Model</th>\n",
              "      <th>Precision_1</th>\n",
              "      <th>Recall_1</th>\n",
              "      <th>F1_1</th>\n",
              "      <th>ROC_AUC</th>\n",
              "      <th>PR_AUC</th>\n",
              "    </tr>\n",
              "  </thead>\n",
              "  <tbody>\n",
              "    <tr>\n",
              "      <th>0</th>\n",
              "      <td>Baseline</td>\n",
              "      <td>0.849462</td>\n",
              "      <td>0.642276</td>\n",
              "      <td>0.731481</td>\n",
              "      <td>0.955699</td>\n",
              "      <td>0.718685</td>\n",
              "    </tr>\n",
              "    <tr>\n",
              "      <th>1</th>\n",
              "      <td>SMOTE</td>\n",
              "      <td>0.059079</td>\n",
              "      <td>0.886179</td>\n",
              "      <td>0.110772</td>\n",
              "      <td>0.972467</td>\n",
              "      <td>0.711864</td>\n",
              "    </tr>\n",
              "    <tr>\n",
              "      <th>2</th>\n",
              "      <td>CBO</td>\n",
              "      <td>0.846154</td>\n",
              "      <td>0.715447</td>\n",
              "      <td>0.775330</td>\n",
              "      <td>0.948819</td>\n",
              "      <td>0.715736</td>\n",
              "    </tr>\n",
              "    <tr>\n",
              "      <th>3</th>\n",
              "      <td>CBU</td>\n",
              "      <td>0.072532</td>\n",
              "      <td>0.878049</td>\n",
              "      <td>0.133995</td>\n",
              "      <td>0.970511</td>\n",
              "      <td>0.650049</td>\n",
              "    </tr>\n",
              "  </tbody>\n",
              "</table>\n",
              "</div>\n",
              "    <div class=\"colab-df-buttons\">\n",
              "\n",
              "  <div class=\"colab-df-container\">\n",
              "    <button class=\"colab-df-convert\" onclick=\"convertToInteractive('df-9d419973-11e5-4525-9d01-5c40384550e9')\"\n",
              "            title=\"Convert this dataframe to an interactive table.\"\n",
              "            style=\"display:none;\">\n",
              "\n",
              "  <svg xmlns=\"http://www.w3.org/2000/svg\" height=\"24px\" viewBox=\"0 -960 960 960\">\n",
              "    <path d=\"M120-120v-720h720v720H120Zm60-500h600v-160H180v160Zm220 220h160v-160H400v160Zm0 220h160v-160H400v160ZM180-400h160v-160H180v160Zm440 0h160v-160H620v160ZM180-180h160v-160H180v160Zm440 0h160v-160H620v160Z\"/>\n",
              "  </svg>\n",
              "    </button>\n",
              "\n",
              "  <style>\n",
              "    .colab-df-container {\n",
              "      display:flex;\n",
              "      gap: 12px;\n",
              "    }\n",
              "\n",
              "    .colab-df-convert {\n",
              "      background-color: #E8F0FE;\n",
              "      border: none;\n",
              "      border-radius: 50%;\n",
              "      cursor: pointer;\n",
              "      display: none;\n",
              "      fill: #1967D2;\n",
              "      height: 32px;\n",
              "      padding: 0 0 0 0;\n",
              "      width: 32px;\n",
              "    }\n",
              "\n",
              "    .colab-df-convert:hover {\n",
              "      background-color: #E2EBFA;\n",
              "      box-shadow: 0px 1px 2px rgba(60, 64, 67, 0.3), 0px 1px 3px 1px rgba(60, 64, 67, 0.15);\n",
              "      fill: #174EA6;\n",
              "    }\n",
              "\n",
              "    .colab-df-buttons div {\n",
              "      margin-bottom: 4px;\n",
              "    }\n",
              "\n",
              "    [theme=dark] .colab-df-convert {\n",
              "      background-color: #3B4455;\n",
              "      fill: #D2E3FC;\n",
              "    }\n",
              "\n",
              "    [theme=dark] .colab-df-convert:hover {\n",
              "      background-color: #434B5C;\n",
              "      box-shadow: 0px 1px 3px 1px rgba(0, 0, 0, 0.15);\n",
              "      filter: drop-shadow(0px 1px 2px rgba(0, 0, 0, 0.3));\n",
              "      fill: #FFFFFF;\n",
              "    }\n",
              "  </style>\n",
              "\n",
              "    <script>\n",
              "      const buttonEl =\n",
              "        document.querySelector('#df-9d419973-11e5-4525-9d01-5c40384550e9 button.colab-df-convert');\n",
              "      buttonEl.style.display =\n",
              "        google.colab.kernel.accessAllowed ? 'block' : 'none';\n",
              "\n",
              "      async function convertToInteractive(key) {\n",
              "        const element = document.querySelector('#df-9d419973-11e5-4525-9d01-5c40384550e9');\n",
              "        const dataTable =\n",
              "          await google.colab.kernel.invokeFunction('convertToInteractive',\n",
              "                                                    [key], {});\n",
              "        if (!dataTable) return;\n",
              "\n",
              "        const docLinkHtml = 'Like what you see? Visit the ' +\n",
              "          '<a target=\"_blank\" href=https://colab.research.google.com/notebooks/data_table.ipynb>data table notebook</a>'\n",
              "          + ' to learn more about interactive tables.';\n",
              "        element.innerHTML = '';\n",
              "        dataTable['output_type'] = 'display_data';\n",
              "        await google.colab.output.renderOutput(dataTable, element);\n",
              "        const docLink = document.createElement('div');\n",
              "        docLink.innerHTML = docLinkHtml;\n",
              "        element.appendChild(docLink);\n",
              "      }\n",
              "    </script>\n",
              "  </div>\n",
              "\n",
              "\n",
              "    <div id=\"df-2559cce8-b646-4f4d-aa9d-a54314690331\">\n",
              "      <button class=\"colab-df-quickchart\" onclick=\"quickchart('df-2559cce8-b646-4f4d-aa9d-a54314690331')\"\n",
              "                title=\"Suggest charts\"\n",
              "                style=\"display:none;\">\n",
              "\n",
              "<svg xmlns=\"http://www.w3.org/2000/svg\" height=\"24px\"viewBox=\"0 0 24 24\"\n",
              "     width=\"24px\">\n",
              "    <g>\n",
              "        <path d=\"M19 3H5c-1.1 0-2 .9-2 2v14c0 1.1.9 2 2 2h14c1.1 0 2-.9 2-2V5c0-1.1-.9-2-2-2zM9 17H7v-7h2v7zm4 0h-2V7h2v10zm4 0h-2v-4h2v4z\"/>\n",
              "    </g>\n",
              "</svg>\n",
              "      </button>\n",
              "\n",
              "<style>\n",
              "  .colab-df-quickchart {\n",
              "      --bg-color: #E8F0FE;\n",
              "      --fill-color: #1967D2;\n",
              "      --hover-bg-color: #E2EBFA;\n",
              "      --hover-fill-color: #174EA6;\n",
              "      --disabled-fill-color: #AAA;\n",
              "      --disabled-bg-color: #DDD;\n",
              "  }\n",
              "\n",
              "  [theme=dark] .colab-df-quickchart {\n",
              "      --bg-color: #3B4455;\n",
              "      --fill-color: #D2E3FC;\n",
              "      --hover-bg-color: #434B5C;\n",
              "      --hover-fill-color: #FFFFFF;\n",
              "      --disabled-bg-color: #3B4455;\n",
              "      --disabled-fill-color: #666;\n",
              "  }\n",
              "\n",
              "  .colab-df-quickchart {\n",
              "    background-color: var(--bg-color);\n",
              "    border: none;\n",
              "    border-radius: 50%;\n",
              "    cursor: pointer;\n",
              "    display: none;\n",
              "    fill: var(--fill-color);\n",
              "    height: 32px;\n",
              "    padding: 0;\n",
              "    width: 32px;\n",
              "  }\n",
              "\n",
              "  .colab-df-quickchart:hover {\n",
              "    background-color: var(--hover-bg-color);\n",
              "    box-shadow: 0 1px 2px rgba(60, 64, 67, 0.3), 0 1px 3px 1px rgba(60, 64, 67, 0.15);\n",
              "    fill: var(--button-hover-fill-color);\n",
              "  }\n",
              "\n",
              "  .colab-df-quickchart-complete:disabled,\n",
              "  .colab-df-quickchart-complete:disabled:hover {\n",
              "    background-color: var(--disabled-bg-color);\n",
              "    fill: var(--disabled-fill-color);\n",
              "    box-shadow: none;\n",
              "  }\n",
              "\n",
              "  .colab-df-spinner {\n",
              "    border: 2px solid var(--fill-color);\n",
              "    border-color: transparent;\n",
              "    border-bottom-color: var(--fill-color);\n",
              "    animation:\n",
              "      spin 1s steps(1) infinite;\n",
              "  }\n",
              "\n",
              "  @keyframes spin {\n",
              "    0% {\n",
              "      border-color: transparent;\n",
              "      border-bottom-color: var(--fill-color);\n",
              "      border-left-color: var(--fill-color);\n",
              "    }\n",
              "    20% {\n",
              "      border-color: transparent;\n",
              "      border-left-color: var(--fill-color);\n",
              "      border-top-color: var(--fill-color);\n",
              "    }\n",
              "    30% {\n",
              "      border-color: transparent;\n",
              "      border-left-color: var(--fill-color);\n",
              "      border-top-color: var(--fill-color);\n",
              "      border-right-color: var(--fill-color);\n",
              "    }\n",
              "    40% {\n",
              "      border-color: transparent;\n",
              "      border-right-color: var(--fill-color);\n",
              "      border-top-color: var(--fill-color);\n",
              "    }\n",
              "    60% {\n",
              "      border-color: transparent;\n",
              "      border-right-color: var(--fill-color);\n",
              "    }\n",
              "    80% {\n",
              "      border-color: transparent;\n",
              "      border-right-color: var(--fill-color);\n",
              "      border-bottom-color: var(--fill-color);\n",
              "    }\n",
              "    90% {\n",
              "      border-color: transparent;\n",
              "      border-bottom-color: var(--fill-color);\n",
              "    }\n",
              "  }\n",
              "</style>\n",
              "\n",
              "      <script>\n",
              "        async function quickchart(key) {\n",
              "          const quickchartButtonEl =\n",
              "            document.querySelector('#' + key + ' button');\n",
              "          quickchartButtonEl.disabled = true;  // To prevent multiple clicks.\n",
              "          quickchartButtonEl.classList.add('colab-df-spinner');\n",
              "          try {\n",
              "            const charts = await google.colab.kernel.invokeFunction(\n",
              "                'suggestCharts', [key], {});\n",
              "          } catch (error) {\n",
              "            console.error('Error during call to suggestCharts:', error);\n",
              "          }\n",
              "          quickchartButtonEl.classList.remove('colab-df-spinner');\n",
              "          quickchartButtonEl.classList.add('colab-df-quickchart-complete');\n",
              "        }\n",
              "        (() => {\n",
              "          let quickchartButtonEl =\n",
              "            document.querySelector('#df-2559cce8-b646-4f4d-aa9d-a54314690331 button');\n",
              "          quickchartButtonEl.style.display =\n",
              "            google.colab.kernel.accessAllowed ? 'block' : 'none';\n",
              "        })();\n",
              "      </script>\n",
              "    </div>\n",
              "\n",
              "  <div id=\"id_7f277bb5-01b1-477f-b9c9-62c06f9b41b4\">\n",
              "    <style>\n",
              "      .colab-df-generate {\n",
              "        background-color: #E8F0FE;\n",
              "        border: none;\n",
              "        border-radius: 50%;\n",
              "        cursor: pointer;\n",
              "        display: none;\n",
              "        fill: #1967D2;\n",
              "        height: 32px;\n",
              "        padding: 0 0 0 0;\n",
              "        width: 32px;\n",
              "      }\n",
              "\n",
              "      .colab-df-generate:hover {\n",
              "        background-color: #E2EBFA;\n",
              "        box-shadow: 0px 1px 2px rgba(60, 64, 67, 0.3), 0px 1px 3px 1px rgba(60, 64, 67, 0.15);\n",
              "        fill: #174EA6;\n",
              "      }\n",
              "\n",
              "      [theme=dark] .colab-df-generate {\n",
              "        background-color: #3B4455;\n",
              "        fill: #D2E3FC;\n",
              "      }\n",
              "\n",
              "      [theme=dark] .colab-df-generate:hover {\n",
              "        background-color: #434B5C;\n",
              "        box-shadow: 0px 1px 3px 1px rgba(0, 0, 0, 0.15);\n",
              "        filter: drop-shadow(0px 1px 2px rgba(0, 0, 0, 0.3));\n",
              "        fill: #FFFFFF;\n",
              "      }\n",
              "    </style>\n",
              "    <button class=\"colab-df-generate\" onclick=\"generateWithVariable('summary')\"\n",
              "            title=\"Generate code using this dataframe.\"\n",
              "            style=\"display:none;\">\n",
              "\n",
              "  <svg xmlns=\"http://www.w3.org/2000/svg\" height=\"24px\"viewBox=\"0 0 24 24\"\n",
              "       width=\"24px\">\n",
              "    <path d=\"M7,19H8.4L18.45,9,17,7.55,7,17.6ZM5,21V16.75L18.45,3.32a2,2,0,0,1,2.83,0l1.4,1.43a1.91,1.91,0,0,1,.58,1.4,1.91,1.91,0,0,1-.58,1.4L9.25,21ZM18.45,9,17,7.55Zm-12,3A5.31,5.31,0,0,0,4.9,8.1,5.31,5.31,0,0,0,1,6.5,5.31,5.31,0,0,0,4.9,4.9,5.31,5.31,0,0,0,6.5,1,5.31,5.31,0,0,0,8.1,4.9,5.31,5.31,0,0,0,12,6.5,5.46,5.46,0,0,0,6.5,12Z\"/>\n",
              "  </svg>\n",
              "    </button>\n",
              "    <script>\n",
              "      (() => {\n",
              "      const buttonEl =\n",
              "        document.querySelector('#id_7f277bb5-01b1-477f-b9c9-62c06f9b41b4 button.colab-df-generate');\n",
              "      buttonEl.style.display =\n",
              "        google.colab.kernel.accessAllowed ? 'block' : 'none';\n",
              "\n",
              "      buttonEl.onclick = () => {\n",
              "        google.colab.notebook.generateWithVariable('summary');\n",
              "      }\n",
              "      })();\n",
              "    </script>\n",
              "  </div>\n",
              "\n",
              "    </div>\n",
              "  </div>\n"
            ],
            "application/vnd.google.colaboratory.intrinsic+json": {
              "type": "dataframe",
              "variable_name": "summary",
              "summary": "{\n  \"name\": \"summary\",\n  \"rows\": 4,\n  \"fields\": [\n    {\n      \"column\": \"Model\",\n      \"properties\": {\n        \"dtype\": \"string\",\n        \"num_unique_values\": 4,\n        \"samples\": [\n          \"SMOTE\",\n          \"CBU\",\n          \"Baseline\"\n        ],\n        \"semantic_type\": \"\",\n        \"description\": \"\"\n      }\n    },\n    {\n      \"column\": \"Precision_1\",\n      \"properties\": {\n        \"dtype\": \"number\",\n        \"std\": 0.4515249872187534,\n        \"min\": 0.05907859078590786,\n        \"max\": 0.8494623655913979,\n        \"num_unique_values\": 4,\n        \"samples\": [\n          0.05907859078590786,\n          0.0725319006044325,\n          0.8494623655913979\n        ],\n        \"semantic_type\": \"\",\n        \"description\": \"\"\n      }\n    },\n    {\n      \"column\": \"Recall_1\",\n      \"properties\": {\n        \"dtype\": \"number\",\n        \"std\": 0.12113548313618974,\n        \"min\": 0.6422764227642277,\n        \"max\": 0.8861788617886179,\n        \"num_unique_values\": 4,\n        \"samples\": [\n          0.8861788617886179,\n          0.8780487804878049,\n          0.6422764227642277\n        ],\n        \"semantic_type\": \"\",\n        \"description\": \"\"\n      }\n    },\n    {\n      \"column\": \"F1_1\",\n      \"properties\": {\n        \"dtype\": \"number\",\n        \"std\": 0.364883579319206,\n        \"min\": 0.11077235772357724,\n        \"max\": 0.775330396475771,\n        \"num_unique_values\": 4,\n        \"samples\": [\n          0.11077235772357724,\n          0.13399503722084366,\n          0.7314814814814815\n        ],\n        \"semantic_type\": \"\",\n        \"description\": \"\"\n      }\n    },\n    {\n      \"column\": \"ROC_AUC\",\n      \"properties\": {\n        \"dtype\": \"number\",\n        \"std\": 0.011480105836018994,\n        \"min\": 0.9488188854791935,\n        \"max\": 0.9724674835065575,\n        \"num_unique_values\": 4,\n        \"samples\": [\n          0.9724674835065575,\n          0.9705108835159595,\n          0.9556994696271193\n        ],\n        \"semantic_type\": \"\",\n        \"description\": \"\"\n      }\n    },\n    {\n      \"column\": \"PR_AUC\",\n      \"properties\": {\n        \"dtype\": \"number\",\n        \"std\": 0.03280879027719352,\n        \"min\": 0.6500490458096972,\n        \"max\": 0.7186852980280755,\n        \"num_unique_values\": 4,\n        \"samples\": [\n          0.7118635149766389,\n          0.6500490458096972,\n          0.7186852980280755\n        ],\n        \"semantic_type\": \"\",\n        \"description\": \"\"\n      }\n    }\n  ]\n}"
            }
          },
          "metadata": {},
          "execution_count": 35
        }
      ]
    },
    {
      "cell_type": "markdown",
      "source": [
        "## Visual Comparison\n",
        "\n",
        "We’ll compare **Precision/Recall/F1 for class-1** side-by-side.\n"
      ],
      "metadata": {
        "id": "9aIHnzoiqZDv"
      }
    },
    {
      "cell_type": "code",
      "source": [
        "import numpy as np\n",
        "import matplotlib.pyplot as plt\n",
        "\n",
        "metrics_to_plot = [\"Precision_1\",\"Recall_1\",\"F1_1\"]\n",
        "x = np.arange(len(summary[\"Model\"]))\n",
        "width = 0.22\n",
        "\n",
        "plt.figure(figsize=(7,4))\n",
        "for i, m in enumerate(metrics_to_plot):\n",
        "    plt.bar(x + i*width - width, summary[m], width, label=m)\n",
        "\n",
        "plt.xticks(x, summary[\"Model\"])\n",
        "plt.ylim(0, 1.05)\n",
        "plt.title(\"Minority-class Metrics by Model\")\n",
        "plt.ylabel(\"Score\")\n",
        "plt.legend()\n",
        "plt.show()\n"
      ],
      "metadata": {
        "colab": {
          "base_uri": "https://localhost:8080/",
          "height": 391
        },
        "id": "_2VJTVtWqWhe",
        "outputId": "d4124320-f379-4b3c-cf8f-12356287da8c"
      },
      "execution_count": 36,
      "outputs": [
        {
          "output_type": "display_data",
          "data": {
            "text/plain": [
              "<Figure size 700x400 with 1 Axes>"
            ],
            "image/png": "[encoded data removed]"
          },
          "metadata": {}
        }
      ]
    },
    {
      "cell_type": "markdown",
      "source": [
        "## Curves Overlay (Optional but insightful)\n",
        "\n",
        "Let’s overlay PR and ROC curves for all models to visually compare trade-offs.\n"
      ],
      "metadata": {
        "id": "SxX9qUvmqdhN"
      }
    },
    {
      "cell_type": "code",
      "source": [
        "from sklearn.metrics import precision_recall_curve, roc_curve\n",
        "\n",
        "# Collect probs in a dict for convenience\n",
        "probs = {\n",
        "    \"Baseline\": y_proba_base,\n",
        "    \"SMOTE\":    y_proba_smote,\n",
        "    \"CBO\":      y_proba_cbo,\n",
        "    \"CBU\":      y_proba_cbu\n",
        "}\n",
        "\n",
        "# PR overlay\n",
        "plt.figure(figsize=(6,4))\n",
        "for name, proba in probs.items():\n",
        "    p, r, _ = precision_recall_curve(y_test, proba)\n",
        "    plt.plot(r, p, label=name)\n",
        "plt.title(\"Precision-Recall Curves (Test)\")\n",
        "plt.xlabel(\"Recall\"); plt.ylabel(\"Precision\")\n",
        "plt.grid(True); plt.legend()\n",
        "plt.show()\n",
        "\n",
        "# ROC overlay\n",
        "plt.figure(figsize=(6,4))\n",
        "for name, proba in probs.items():\n",
        "    fpr, tpr, _ = roc_curve(y_test, proba)\n",
        "    plt.plot(fpr, tpr, label=name)\n",
        "plt.title(\"ROC Curves (Test)\")\n",
        "plt.xlabel(\"False Positive Rate\"); plt.ylabel(\"True Positive Rate\")\n",
        "plt.grid(True); plt.legend()\n",
        "plt.show()\n"
      ],
      "metadata": {
        "colab": {
          "base_uri": "https://localhost:8080/",
          "height": 803
        },
        "id": "KMdIp17Hqa7B",
        "outputId": "68da17ec-8437-4ae7-8c44-a5d78402fa33"
      },
      "execution_count": 37,
      "outputs": [
        {
          "output_type": "display_data",
          "data": {
            "text/plain": [
              "<Figure size 600x400 with 1 Axes>"
            ],
            "image/png": "[encoded data removed]"
          },
          "metadata": {}
        },
        {
          "output_type": "display_data",
          "data": {
            "text/plain": [
              "<Figure size 600x400 with 1 Axes>"
            ],
            "image/png": "[encoded data removed]"
          },
          "metadata": {}
        }
      ]
    },
    {
      "cell_type": "markdown",
      "source": [
        "## Conclusions & Recommendations\n",
        "\n",
        "**What improved?**\n",
        "- **SMOTE** usually increases **recall** by exposing the model to more positives,\n",
        "but it can inject borderline noise near class boundaries.\n",
        "- **CBO** (clustering-based oversampling) tends to perform better when the minority\n",
        "is **multi-modal**, preserving diversity by growing each sub-group. This often yields a\n",
        "stronger balance between **precision** and **recall** than naive SMOTE.\n",
        "- **CBU** (clustering-based undersampling) keeps only a **representative** subset of\n",
        "the majority, often improving **precision** while maintaining competitive recall,\n",
        "but it may discard some useful information if undersampled aggressively.\n",
        "\n",
        "**Metric to trust:** **PR-AUC** is the most faithful summary here; also look at\n",
        "class-1 **recall** if missing fraud is costly, and **precision** if false alarms are costly.\n",
        "\n",
        "**Recommendation:** If the goal is to catch as many frauds as possible with a manageable\n",
        "false positive rate, start with **CBO** (or a hybrid **CBO + light CBU** to control class\n",
        "ratio). Then **tune decision thresholds** based on the PR curve to hit your operational\n",
        "targets (e.g., target recall ≥ X% at precision ≥ Y%).\n"
      ],
      "metadata": {
        "id": "7UjbXSXnqhw4"
      }
    },
    {
      "cell_type": "markdown",
      "source": [
        "### Optional — Choosing `k` for Clustering\n",
        "\n",
        "Since the elbow method was inconclusive, we fixed k=5 for minority class clustering. This balances between capturing diversity and avoiding very small, noisy clusters.\n"
      ],
      "metadata": {
        "id": "yBqlXlJEqktD"
      }
    },
    {
      "cell_type": "code",
      "source": [
        "from sklearn.cluster import KMeans\n",
        "\n",
        "def elbow_scores(X, k_range=range(2, 11), seed=42):\n",
        "    inertias = []\n",
        "    for k in k_range:\n",
        "        km = KMeans(n_clusters=k, random_state=seed, n_init='auto')\n",
        "        km.fit(X)\n",
        "        inertias.append(km.inertia_)\n",
        "    return list(k_range), inertias\n",
        "\n",
        "# Elbow for minority (use Xtr_min defined earlier)\n",
        "k_rng_min, iner_min = elbow_scores(Xtr_min, k_range=range(2, 11))\n",
        "plt.figure(figsize=(5,4))\n",
        "plt.plot(k_rng_min, iner_min, marker='o')\n",
        "plt.title(\"Minority (Class 1) Elbow\")\n",
        "plt.xlabel(\"k\"); plt.ylabel(\"Inertia\")\n",
        "plt.grid(True); plt.show()\n",
        "\n",
        "# Elbow for majority (use Xtr_maj defined earlier)\n",
        "k_rng_maj, iner_maj = elbow_scores(Xtr_maj, k_range=range(2, 16))\n",
        "plt.figure(figsize=(5,4))\n",
        "plt.plot(k_rng_maj, iner_maj, marker='o')\n",
        "plt.title(\"Majority (Class 0) Elbow\")\n",
        "plt.xlabel(\"k\"); plt.ylabel(\"Inertia\")\n",
        "plt.grid(True); plt.show()\n"
      ],
      "metadata": {
        "colab": {
          "base_uri": "https://localhost:8080/",
          "height": 803
        },
        "id": "KyO3vMb7qjep",
        "outputId": "c4a974c5-e397-417e-c2cc-fbb9893b5019"
      },
      "execution_count": 38,
      "outputs": [
        {
          "output_type": "display_data",
          "data": {
            "text/plain": [
              "<Figure size 500x400 with 1 Axes>"
            ],
            "image/png": "[encoded data removed]"
          },
          "metadata": {}
        },
        {
          "output_type": "display_data",
          "data": {
            "text/plain": [
              "<Figure size 500x400 with 1 Axes>"
            ],
            "image/png": "[encoded data removed]"
          },
          "metadata": {}
        }
      ]
    },
    {
      "cell_type": "code",
      "source": [],
      "metadata": {
        "id": "VR9XpwMInHZI"
      },
      "execution_count": null,
      "outputs": []
    }
  ]
}